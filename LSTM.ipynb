{
 "cells": [
  {
   "cell_type": "code",
   "execution_count": 2,
   "metadata": {
    "scrolled": true
   },
   "outputs": [
    {
     "name": "stderr",
     "output_type": "stream",
     "text": [
      "C:\\Users\\mingj\\anaconda3\\lib\\site-packages\\pandas_datareader\\compat\\__init__.py:7: FutureWarning: pandas.util.testing is deprecated. Use the functions in the public API at pandas.testing instead.\n",
      "  from pandas.util.testing import assert_frame_equal\n"
     ]
    }
   ],
   "source": [
    "import pandas_datareader as pdr"
   ]
  },
  {
   "cell_type": "code",
   "execution_count": 3,
   "metadata": {},
   "outputs": [],
   "source": [
    "import pandas as pd"
   ]
  },
  {
   "cell_type": "code",
   "execution_count": 19,
   "metadata": {},
   "outputs": [],
   "source": [
    "df=pd.read_csv(r'C:\\Users\\mingj\\OneDrive\\Desktop\\daily.csv')\n",
    "df=df.dropna()\n",
    "df.set_index(\"Date\", inplace = True)"
   ]
  },
  {
   "cell_type": "code",
   "execution_count": 20,
   "metadata": {},
   "outputs": [
    {
     "data": {
      "text/html": [
       "<div>\n",
       "<style scoped>\n",
       "    .dataframe tbody tr th:only-of-type {\n",
       "        vertical-align: middle;\n",
       "    }\n",
       "\n",
       "    .dataframe tbody tr th {\n",
       "        vertical-align: top;\n",
       "    }\n",
       "\n",
       "    .dataframe thead th {\n",
       "        text-align: right;\n",
       "    }\n",
       "</style>\n",
       "<table border=\"1\" class=\"dataframe\">\n",
       "  <thead>\n",
       "    <tr style=\"text-align: right;\">\n",
       "      <th></th>\n",
       "      <th>Open</th>\n",
       "      <th>High</th>\n",
       "      <th>Low</th>\n",
       "      <th>Close</th>\n",
       "      <th>Adj Close</th>\n",
       "      <th>Volume</th>\n",
       "    </tr>\n",
       "    <tr>\n",
       "      <th>Date</th>\n",
       "      <th></th>\n",
       "      <th></th>\n",
       "      <th></th>\n",
       "      <th></th>\n",
       "      <th></th>\n",
       "      <th></th>\n",
       "    </tr>\n",
       "  </thead>\n",
       "  <tbody>\n",
       "    <tr>\n",
       "      <th>02/01/2009</th>\n",
       "      <td>2.203</td>\n",
       "      <td>2.417</td>\n",
       "      <td>2.159</td>\n",
       "      <td>2.416</td>\n",
       "      <td>2.416</td>\n",
       "      <td>0.0</td>\n",
       "    </tr>\n",
       "    <tr>\n",
       "      <th>05/01/2009</th>\n",
       "      <td>2.485</td>\n",
       "      <td>2.520</td>\n",
       "      <td>2.409</td>\n",
       "      <td>2.488</td>\n",
       "      <td>2.488</td>\n",
       "      <td>0.0</td>\n",
       "    </tr>\n",
       "    <tr>\n",
       "      <th>06/01/2009</th>\n",
       "      <td>2.557</td>\n",
       "      <td>2.614</td>\n",
       "      <td>2.467</td>\n",
       "      <td>2.505</td>\n",
       "      <td>2.505</td>\n",
       "      <td>0.0</td>\n",
       "    </tr>\n",
       "    <tr>\n",
       "      <th>07/01/2009</th>\n",
       "      <td>2.474</td>\n",
       "      <td>2.537</td>\n",
       "      <td>2.455</td>\n",
       "      <td>2.494</td>\n",
       "      <td>2.494</td>\n",
       "      <td>0.0</td>\n",
       "    </tr>\n",
       "    <tr>\n",
       "      <th>08/01/2009</th>\n",
       "      <td>2.441</td>\n",
       "      <td>2.494</td>\n",
       "      <td>2.408</td>\n",
       "      <td>2.445</td>\n",
       "      <td>2.445</td>\n",
       "      <td>0.0</td>\n",
       "    </tr>\n",
       "  </tbody>\n",
       "</table>\n",
       "</div>"
      ],
      "text/plain": [
       "             Open   High    Low  Close  Adj Close  Volume\n",
       "Date                                                     \n",
       "02/01/2009  2.203  2.417  2.159  2.416      2.416     0.0\n",
       "05/01/2009  2.485  2.520  2.409  2.488      2.488     0.0\n",
       "06/01/2009  2.557  2.614  2.467  2.505      2.505     0.0\n",
       "07/01/2009  2.474  2.537  2.455  2.494      2.494     0.0\n",
       "08/01/2009  2.441  2.494  2.408  2.445      2.445     0.0"
      ]
     },
     "execution_count": 20,
     "metadata": {},
     "output_type": "execute_result"
    }
   ],
   "source": [
    "df.head()"
   ]
  },
  {
   "cell_type": "code",
   "execution_count": 22,
   "metadata": {},
   "outputs": [
    {
     "data": {
      "text/html": [
       "<div>\n",
       "<style scoped>\n",
       "    .dataframe tbody tr th:only-of-type {\n",
       "        vertical-align: middle;\n",
       "    }\n",
       "\n",
       "    .dataframe tbody tr th {\n",
       "        vertical-align: top;\n",
       "    }\n",
       "\n",
       "    .dataframe thead th {\n",
       "        text-align: right;\n",
       "    }\n",
       "</style>\n",
       "<table border=\"1\" class=\"dataframe\">\n",
       "  <thead>\n",
       "    <tr style=\"text-align: right;\">\n",
       "      <th></th>\n",
       "      <th>Close</th>\n",
       "    </tr>\n",
       "    <tr>\n",
       "      <th>Date</th>\n",
       "      <th></th>\n",
       "    </tr>\n",
       "  </thead>\n",
       "  <tbody>\n",
       "    <tr>\n",
       "      <th>02/01/2009</th>\n",
       "      <td>2.416</td>\n",
       "    </tr>\n",
       "    <tr>\n",
       "      <th>05/01/2009</th>\n",
       "      <td>2.488</td>\n",
       "    </tr>\n",
       "    <tr>\n",
       "      <th>06/01/2009</th>\n",
       "      <td>2.505</td>\n",
       "    </tr>\n",
       "    <tr>\n",
       "      <th>07/01/2009</th>\n",
       "      <td>2.494</td>\n",
       "    </tr>\n",
       "    <tr>\n",
       "      <th>08/01/2009</th>\n",
       "      <td>2.445</td>\n",
       "    </tr>\n",
       "    <tr>\n",
       "      <th>...</th>\n",
       "      <td>...</td>\n",
       "    </tr>\n",
       "    <tr>\n",
       "      <th>20/12/2019</th>\n",
       "      <td>1.917</td>\n",
       "    </tr>\n",
       "    <tr>\n",
       "      <th>23/12/2019</th>\n",
       "      <td>1.935</td>\n",
       "    </tr>\n",
       "    <tr>\n",
       "      <th>26/12/2019</th>\n",
       "      <td>1.905</td>\n",
       "    </tr>\n",
       "    <tr>\n",
       "      <th>27/12/2019</th>\n",
       "      <td>1.874</td>\n",
       "    </tr>\n",
       "    <tr>\n",
       "      <th>30/12/2019</th>\n",
       "      <td>1.895</td>\n",
       "    </tr>\n",
       "  </tbody>\n",
       "</table>\n",
       "<p>2743 rows × 1 columns</p>\n",
       "</div>"
      ],
      "text/plain": [
       "            Close\n",
       "Date             \n",
       "02/01/2009  2.416\n",
       "05/01/2009  2.488\n",
       "06/01/2009  2.505\n",
       "07/01/2009  2.494\n",
       "08/01/2009  2.445\n",
       "...           ...\n",
       "20/12/2019  1.917\n",
       "23/12/2019  1.935\n",
       "26/12/2019  1.905\n",
       "27/12/2019  1.874\n",
       "30/12/2019  1.895\n",
       "\n",
       "[2743 rows x 1 columns]"
      ]
     },
     "execution_count": 22,
     "metadata": {},
     "output_type": "execute_result"
    }
   ],
   "source": [
    "df=pd.DataFrame(df['Close'])\n",
    "df"
   ]
  },
  {
   "cell_type": "code",
   "execution_count": 23,
   "metadata": {},
   "outputs": [],
   "source": [
    "import matplotlib.pyplot as plt"
   ]
  },
  {
   "cell_type": "code",
   "execution_count": 24,
   "metadata": {},
   "outputs": [
    {
     "data": {
      "text/plain": [
       "[<matplotlib.lines.Line2D at 0x1f5c670ec48>]"
      ]
     },
     "execution_count": 24,
     "metadata": {},
     "output_type": "execute_result"
    },
    {
     "data": {
      "image/png": "[encoded data removed]",
      "text/plain": [
       "<Figure size 432x288 with 1 Axes>"
      ]
     },
     "metadata": {
      "needs_background": "light"
     },
     "output_type": "display_data"
    }
   ],
   "source": [
    "plt.plot(df)"
   ]
  },
  {
   "cell_type": "code",
   "execution_count": 25,
   "metadata": {},
   "outputs": [],
   "source": [
    "import numpy as np"
   ]
  },
  {
   "cell_type": "code",
   "execution_count": 26,
   "metadata": {},
   "outputs": [],
   "source": [
    "from sklearn.preprocessing import MinMaxScaler"
   ]
  },
  {
   "cell_type": "code",
   "execution_count": 29,
   "metadata": {},
   "outputs": [],
   "source": [
    "scaler=MinMaxScaler(feature_range=(0,1))"
   ]
  },
  {
   "cell_type": "code",
   "execution_count": 30,
   "metadata": {},
   "outputs": [],
   "source": [
    "df=scaler.fit_transform(np.array(df).reshape(-1,1))"
   ]
  },
  {
   "cell_type": "code",
   "execution_count": 31,
   "metadata": {},
   "outputs": [
    {
     "data": {
      "text/plain": [
       "array([[0.39954338],\n",
       "       [0.42694064],\n",
       "       [0.43340944],\n",
       "       ...,\n",
       "       [0.20509893],\n",
       "       [0.19330289],\n",
       "       [0.20129376]])"
      ]
     },
     "execution_count": 31,
     "metadata": {},
     "output_type": "execute_result"
    }
   ],
   "source": [
    "df"
   ]
  },
  {
   "cell_type": "code",
   "execution_count": 17,
   "metadata": {},
   "outputs": [],
   "source": []
  },
  {
   "cell_type": "code",
   "execution_count": 32,
   "metadata": {},
   "outputs": [],
   "source": [
    "training_size=int(len(df)*0.7)\n",
    "test_size=len(df)-training_size\n",
    "train_data,test_data=df[0:training_size,:],df[training_size:len(df),:1]"
   ]
  },
  {
   "cell_type": "code",
   "execution_count": 33,
   "metadata": {},
   "outputs": [
    {
     "data": {
      "text/plain": [
       "(1920, 823)"
      ]
     },
     "execution_count": 33,
     "metadata": {},
     "output_type": "execute_result"
    }
   ],
   "source": [
    "training_size,test_size\n"
   ]
  },
  {
   "cell_type": "code",
   "execution_count": 37,
   "metadata": {
    "scrolled": true
   },
   "outputs": [
    {
     "data": {
      "text/plain": [
       "array([[0.66373166],\n",
       "       [0.51446541],\n",
       "       [0.69853249],\n",
       "       [0.84150943],\n",
       "       [0.86582809],\n",
       "       [0.85660377],\n",
       "       [0.81467505],\n",
       "       [0.77526205],\n",
       "       [0.81090147],\n",
       "       [0.73081761],\n",
       "       [1.        ],\n",
       "       [0.90188679],\n",
       "       [0.89601677],\n",
       "       [0.99580713],\n",
       "       [0.9245283 ],\n",
       "       [0.77274633],\n",
       "       [0.62599581],\n",
       "       [0.60754717],\n",
       "       [0.42725367],\n",
       "       [0.44402516],\n",
       "       [0.48385744],\n",
       "       [0.56142558],\n",
       "       [0.77442348],\n",
       "       [0.80503145],\n",
       "       [0.82012579],\n",
       "       [0.83689727],\n",
       "       [0.7706499 ],\n",
       "       [0.66750524],\n",
       "       [0.71278826],\n",
       "       [0.56477987],\n",
       "       [0.31865828],\n",
       "       [0.19538784],\n",
       "       [0.30062893],\n",
       "       [0.2557652 ],\n",
       "       [0.17316562],\n",
       "       [0.14297694],\n",
       "       [0.21761006],\n",
       "       [0.31781971],\n",
       "       [0.19161426],\n",
       "       [0.05157233],\n",
       "       [0.08427673],\n",
       "       [0.01425577],\n",
       "       [0.04360587],\n",
       "       [0.07505241],\n",
       "       [0.09559748],\n",
       "       [0.06205451],\n",
       "       [0.12494759],\n",
       "       [0.22096436],\n",
       "       [0.1802935 ],\n",
       "       [0.16519916],\n",
       "       [0.09098532],\n",
       "       [0.29601677],\n",
       "       [0.42767296],\n",
       "       [0.47589099],\n",
       "       [0.54129979],\n",
       "       [0.4851153 ],\n",
       "       [0.45450734],\n",
       "       [0.53794549],\n",
       "       [0.65744235],\n",
       "       [0.50733753],\n",
       "       [0.50314465],\n",
       "       [0.53039832],\n",
       "       [0.49895178],\n",
       "       [0.41886792],\n",
       "       [0.44360587],\n",
       "       [0.46037736],\n",
       "       [0.37106918],\n",
       "       [0.44025157],\n",
       "       [0.36771488],\n",
       "       [0.30859539],\n",
       "       [0.29853249],\n",
       "       [0.09098532],\n",
       "       [0.22809224],\n",
       "       [0.19958071],\n",
       "       [0.24654088],\n",
       "       [0.26708595],\n",
       "       [0.36771488],\n",
       "       [0.31320755],\n",
       "       [0.31111111],\n",
       "       [0.2524109 ],\n",
       "       [0.29056604],\n",
       "       [0.31865828],\n",
       "       [0.34004193],\n",
       "       [0.19832285],\n",
       "       [0.11823899],\n",
       "       [0.13752621],\n",
       "       [0.15136268],\n",
       "       [0.15765199],\n",
       "       [0.01257862],\n",
       "       [0.        ],\n",
       "       [0.04612159]])"
      ]
     },
     "execution_count": 37,
     "metadata": {},
     "output_type": "execute_result"
    }
   ],
   "source": [
    "train_data"
   ]
  },
  {
   "cell_type": "code",
   "execution_count": 34,
   "metadata": {},
   "outputs": [],
   "source": [
    "import numpy"
   ]
  },
  {
   "cell_type": "code",
   "execution_count": 22,
   "metadata": {},
   "outputs": [],
   "source": []
  },
  {
   "cell_type": "code",
   "execution_count": 35,
   "metadata": {},
   "outputs": [],
   "source": [
    "def create_dataset(dataset, time_step=1):\n",
    "\tdataX, dataY = [], []\n",
    "\tfor i in range(len(dataset)-time_step-1):\n",
    "\t\ta = dataset[i:(i+time_step), 0]   ###i=0, 0,1,2,3-----99   100 \n",
    "\t\tdataX.append(a)\n",
    "\t\tdataY.append(dataset[i + time_step, 0])\n",
    "\treturn numpy.array(dataX), numpy.array(dataY)\n"
   ]
  },
  {
   "cell_type": "code",
   "execution_count": 36,
   "metadata": {},
   "outputs": [],
   "source": [
    "time_step = 100\n",
    "X_train, y_train = create_dataset(train_data, time_step)\n",
    "X_test, ytest = create_dataset(test_data, time_step)"
   ]
  },
  {
   "cell_type": "code",
   "execution_count": 46,
   "metadata": {
    "scrolled": true
   },
   "outputs": [
    {
     "name": "stdout",
     "output_type": "stream",
     "text": [
      "(1819, 100, 1)\n",
      "(1819,)\n"
     ]
    },
    {
     "data": {
      "text/plain": [
       "(None, None)"
      ]
     },
     "execution_count": 46,
     "metadata": {},
     "output_type": "execute_result"
    }
   ],
   "source": [
    "print(X_train.shape), print(y_train.shape)\n"
   ]
  },
  {
   "cell_type": "code",
   "execution_count": 44,
   "metadata": {},
   "outputs": [],
   "source": [
    "X_train =X_train.reshape(X_train.shape[0],X_train.shape[1] , 1)\n",
    "X_test = X_test.reshape(X_test.shape[0],X_test.shape[1] , 1)"
   ]
  },
  {
   "cell_type": "code",
   "execution_count": 45,
   "metadata": {},
   "outputs": [
    {
     "name": "stdout",
     "output_type": "stream",
     "text": [
      "(722, 100, 1)\n",
      "(722,)\n"
     ]
    },
    {
     "data": {
      "text/plain": [
       "(None, None)"
      ]
     },
     "execution_count": 45,
     "metadata": {},
     "output_type": "execute_result"
    }
   ],
   "source": [
    "print(X_test.shape), print(ytest.shape)\n"
   ]
  },
  {
   "cell_type": "code",
   "execution_count": 47,
   "metadata": {},
   "outputs": [],
   "source": [
    "from tensorflow.keras.models import Sequential\n",
    "from tensorflow.keras.layers import Dense\n",
    "from tensorflow.keras.layers import LSTM"
   ]
  },
  {
   "cell_type": "code",
   "execution_count": 48,
   "metadata": {},
   "outputs": [],
   "source": [
    "model=Sequential()\n",
    "model.add(LSTM(50,return_sequences=True,input_shape=(100,1)))\n",
    "model.add(LSTM(50,return_sequences=True))\n",
    "model.add(LSTM(50))\n",
    "model.add(Dense(1))\n",
    "model.compile(loss='mean_squared_error',optimizer='adam')"
   ]
  },
  {
   "cell_type": "code",
   "execution_count": 49,
   "metadata": {
    "scrolled": true
   },
   "outputs": [
    {
     "name": "stdout",
     "output_type": "stream",
     "text": [
      "Model: \"sequential_1\"\n",
      "_________________________________________________________________\n",
      "Layer (type)                 Output Shape              Param #   \n",
      "=================================================================\n",
      "lstm_3 (LSTM)                (None, 100, 50)           10400     \n",
      "_________________________________________________________________\n",
      "lstm_4 (LSTM)                (None, 100, 50)           20200     \n",
      "_________________________________________________________________\n",
      "lstm_5 (LSTM)                (None, 50)                20200     \n",
      "_________________________________________________________________\n",
      "dense_1 (Dense)              (None, 1)                 51        \n",
      "=================================================================\n",
      "Total params: 50,851\n",
      "Trainable params: 50,851\n",
      "Non-trainable params: 0\n",
      "_________________________________________________________________\n"
     ]
    }
   ],
   "source": [
    "model.summary()\n"
   ]
  },
  {
   "cell_type": "code",
   "execution_count": 50,
   "metadata": {},
   "outputs": [
    {
     "name": "stdout",
     "output_type": "stream",
     "text": [
      "Epoch 1/100\n",
      "29/29 [==============================] - 5s 159ms/step - loss: 0.0375 - val_loss: 0.0025\n",
      "Epoch 2/100\n",
      "29/29 [==============================] - 4s 123ms/step - loss: 0.0041 - val_loss: 0.0019\n",
      "Epoch 3/100\n",
      "29/29 [==============================] - 4s 132ms/step - loss: 0.0032 - val_loss: 0.0017\n",
      "Epoch 4/100\n",
      "29/29 [==============================] - 4s 135ms/step - loss: 0.0030 - val_loss: 0.0016\n",
      "Epoch 5/100\n",
      "29/29 [==============================] - 4s 123ms/step - loss: 0.0028 - val_loss: 0.0016\n",
      "Epoch 6/100\n",
      "29/29 [==============================] - 4s 136ms/step - loss: 0.0027 - val_loss: 0.0016\n",
      "Epoch 7/100\n",
      "29/29 [==============================] - 3s 108ms/step - loss: 0.0025 - val_loss: 0.0016\n",
      "Epoch 8/100\n",
      "29/29 [==============================] - 4s 132ms/step - loss: 0.0023 - val_loss: 0.0012\n",
      "Epoch 9/100\n",
      "29/29 [==============================] - 4s 127ms/step - loss: 0.0022 - val_loss: 0.0012\n",
      "Epoch 10/100\n",
      "29/29 [==============================] - 4s 123ms/step - loss: 0.0023 - val_loss: 0.0015\n",
      "Epoch 11/100\n",
      "29/29 [==============================] - 3s 110ms/step - loss: 0.0021 - val_loss: 0.0011\n",
      "Epoch 12/100\n",
      "29/29 [==============================] - 4s 121ms/step - loss: 0.0020 - val_loss: 0.0012\n",
      "Epoch 13/100\n",
      "29/29 [==============================] - 4s 132ms/step - loss: 0.0018 - val_loss: 0.0010\n",
      "Epoch 14/100\n",
      "29/29 [==============================] - 4s 121ms/step - loss: 0.0017 - val_loss: 0.0010\n",
      "Epoch 15/100\n",
      "29/29 [==============================] - 4s 123ms/step - loss: 0.0017 - val_loss: 0.0012\n",
      "Epoch 16/100\n",
      "29/29 [==============================] - 4s 121ms/step - loss: 0.0018 - val_loss: 0.0011\n",
      "Epoch 17/100\n",
      "29/29 [==============================] - 4s 147ms/step - loss: 0.0016 - val_loss: 9.7414e-04\n",
      "Epoch 18/100\n",
      "29/29 [==============================] - 4s 129ms/step - loss: 0.0015 - val_loss: 8.8033e-04\n",
      "Epoch 19/100\n",
      "29/29 [==============================] - 4s 125ms/step - loss: 0.0014 - val_loss: 0.0010\n",
      "Epoch 20/100\n",
      "29/29 [==============================] - 4s 123ms/step - loss: 0.0014 - val_loss: 9.0877e-04\n",
      "Epoch 21/100\n",
      "29/29 [==============================] - 4s 123ms/step - loss: 0.0014 - val_loss: 9.2055e-04\n",
      "Epoch 22/100\n",
      "29/29 [==============================] - 4s 127ms/step - loss: 0.0015 - val_loss: 9.1048e-04\n",
      "Epoch 23/100\n",
      "29/29 [==============================] - 4s 123ms/step - loss: 0.0013 - val_loss: 7.8352e-04\n",
      "Epoch 24/100\n",
      "29/29 [==============================] - 3s 115ms/step - loss: 0.0013 - val_loss: 8.2801e-04\n",
      "Epoch 25/100\n",
      "29/29 [==============================] - 4s 122ms/step - loss: 0.0012 - val_loss: 7.7140e-04\n",
      "Epoch 26/100\n",
      "29/29 [==============================] - 3s 113ms/step - loss: 0.0012 - val_loss: 8.2251e-04\n",
      "Epoch 27/100\n",
      "29/29 [==============================] - 4s 131ms/step - loss: 0.0012 - val_loss: 7.0203e-04\n",
      "Epoch 28/100\n",
      "29/29 [==============================] - 4s 123ms/step - loss: 0.0012 - val_loss: 6.2517e-04\n",
      "Epoch 29/100\n",
      "29/29 [==============================] - 4s 129ms/step - loss: 0.0011 - val_loss: 7.0585e-04\n",
      "Epoch 30/100\n",
      "29/29 [==============================] - 3s 120ms/step - loss: 0.0011 - val_loss: 0.0010\n",
      "Epoch 31/100\n",
      "29/29 [==============================] - 3s 120ms/step - loss: 0.0011 - val_loss: 6.6720e-04\n",
      "Epoch 32/100\n",
      "29/29 [==============================] - 4s 121ms/step - loss: 9.9720e-04 - val_loss: 6.2790e-04\n",
      "Epoch 33/100\n",
      "29/29 [==============================] - 4s 130ms/step - loss: 0.0010 - val_loss: 7.8346e-04\n",
      "Epoch 34/100\n",
      "29/29 [==============================] - 5s 157ms/step - loss: 9.7443e-04 - val_loss: 4.9731e-04\n",
      "Epoch 35/100\n",
      "29/29 [==============================] - 4s 146ms/step - loss: 9.3231e-04 - val_loss: 5.3675e-04\n",
      "Epoch 36/100\n",
      "29/29 [==============================] - 4s 128ms/step - loss: 8.8936e-04 - val_loss: 4.5922e-04\n",
      "Epoch 37/100\n",
      "29/29 [==============================] - 5s 175ms/step - loss: 8.7337e-04 - val_loss: 8.5055e-04\n",
      "Epoch 38/100\n",
      "29/29 [==============================] - 5s 170ms/step - loss: 8.3509e-04 - val_loss: 4.3363e-04\n",
      "Epoch 39/100\n",
      "29/29 [==============================] - 4s 147ms/step - loss: 8.3581e-04 - val_loss: 4.2994e-04\n",
      "Epoch 40/100\n",
      "29/29 [==============================] - 4s 128ms/step - loss: 8.6056e-04 - val_loss: 4.1107e-04\n",
      "Epoch 41/100\n",
      "29/29 [==============================] - 4s 143ms/step - loss: 8.3232e-04 - val_loss: 4.6762e-04\n",
      "Epoch 42/100\n",
      "29/29 [==============================] - 4s 131ms/step - loss: 7.9990e-04 - val_loss: 3.7465e-04\n",
      "Epoch 43/100\n",
      "29/29 [==============================] - 4s 130ms/step - loss: 9.6367e-04 - val_loss: 6.4594e-04\n",
      "Epoch 44/100\n",
      "29/29 [==============================] - 4s 133ms/step - loss: 8.5380e-04 - val_loss: 3.7865e-04\n",
      "Epoch 45/100\n",
      "29/29 [==============================] - 4s 141ms/step - loss: 7.1335e-04 - val_loss: 3.6902e-04\n",
      "Epoch 46/100\n",
      "29/29 [==============================] - 4s 130ms/step - loss: 6.8219e-04 - val_loss: 3.5348e-04\n",
      "Epoch 47/100\n",
      "29/29 [==============================] - 4s 132ms/step - loss: 7.4357e-04 - val_loss: 4.9005e-04\n",
      "Epoch 48/100\n",
      "29/29 [==============================] - 4s 131ms/step - loss: 7.3095e-04 - val_loss: 4.8925e-04\n",
      "Epoch 49/100\n",
      "29/29 [==============================] - 4s 144ms/step - loss: 6.7411e-04 - val_loss: 3.4175e-04\n",
      "Epoch 50/100\n",
      "29/29 [==============================] - 4s 133ms/step - loss: 6.4684e-04 - val_loss: 4.9743e-04\n",
      "Epoch 51/100\n",
      "29/29 [==============================] - 4s 131ms/step - loss: 6.7863e-04 - val_loss: 3.4635e-04\n",
      "Epoch 52/100\n",
      "29/29 [==============================] - 4s 132ms/step - loss: 8.0751e-04 - val_loss: 2.9666e-04\n",
      "Epoch 53/100\n",
      "29/29 [==============================] - 4s 138ms/step - loss: 6.4757e-04 - val_loss: 3.1804e-04\n",
      "Epoch 54/100\n",
      "29/29 [==============================] - 4s 132ms/step - loss: 6.6207e-04 - val_loss: 3.1308e-04\n",
      "Epoch 55/100\n",
      "29/29 [==============================] - 4s 143ms/step - loss: 5.9803e-04 - val_loss: 2.7784e-04\n",
      "Epoch 56/100\n",
      "29/29 [==============================] - 5s 170ms/step - loss: 6.0325e-04 - val_loss: 4.1869e-04\n",
      "Epoch 57/100\n",
      "29/29 [==============================] - 5s 160ms/step - loss: 7.3228e-04 - val_loss: 4.2329e-04\n",
      "Epoch 58/100\n",
      "29/29 [==============================] - 5s 190ms/step - loss: 5.8553e-04 - val_loss: 2.9355e-04\n",
      "Epoch 59/100\n",
      "29/29 [==============================] - 5s 179ms/step - loss: 6.4387e-04 - val_loss: 5.2630e-04\n",
      "Epoch 60/100\n",
      "29/29 [==============================] - 5s 183ms/step - loss: 7.1752e-04 - val_loss: 2.9016e-04\n",
      "Epoch 61/100\n",
      "29/29 [==============================] - 5s 189ms/step - loss: 5.5862e-04 - val_loss: 2.6979e-04\n",
      "Epoch 62/100\n",
      "29/29 [==============================] - 5s 174ms/step - loss: 6.3031e-04 - val_loss: 5.2356e-04\n",
      "Epoch 63/100\n",
      "29/29 [==============================] - 4s 151ms/step - loss: 6.7967e-04 - val_loss: 5.3818e-04\n",
      "Epoch 64/100\n",
      "29/29 [==============================] - 5s 174ms/step - loss: 5.9955e-04 - val_loss: 3.2342e-04\n",
      "Epoch 65/100\n",
      "29/29 [==============================] - 4s 149ms/step - loss: 5.8769e-04 - val_loss: 2.5322e-04\n",
      "Epoch 66/100\n",
      "29/29 [==============================] - 4s 153ms/step - loss: 5.9404e-04 - val_loss: 2.4397e-04\n",
      "Epoch 67/100\n",
      "29/29 [==============================] - 4s 146ms/step - loss: 5.7785e-04 - val_loss: 3.2121e-04\n",
      "Epoch 68/100\n",
      "29/29 [==============================] - 4s 143ms/step - loss: 5.8799e-04 - val_loss: 3.3367e-04\n",
      "Epoch 69/100\n",
      "29/29 [==============================] - 4s 149ms/step - loss: 5.2934e-04 - val_loss: 2.9803e-04\n",
      "Epoch 70/100\n",
      "29/29 [==============================] - 5s 178ms/step - loss: 5.3637e-04 - val_loss: 2.3927e-04\n",
      "Epoch 71/100\n",
      "29/29 [==============================] - 5s 180ms/step - loss: 5.3142e-04 - val_loss: 2.3224e-04\n",
      "Epoch 72/100\n",
      "29/29 [==============================] - 5s 171ms/step - loss: 5.7796e-04 - val_loss: 4.0026e-04\n",
      "Epoch 73/100\n",
      "29/29 [==============================] - 7s 249ms/step - loss: 6.1798e-04 - val_loss: 2.3412e-04\n",
      "Epoch 74/100\n",
      "29/29 [==============================] - 7s 242ms/step - loss: 5.1126e-04 - val_loss: 2.3562e-04\n",
      "Epoch 75/100\n",
      "29/29 [==============================] - 6s 198ms/step - loss: 5.0268e-04 - val_loss: 2.4261e-04\n",
      "Epoch 76/100\n",
      "29/29 [==============================] - 6s 216ms/step - loss: 5.0417e-04 - val_loss: 4.4067e-04\n",
      "Epoch 77/100\n",
      "29/29 [==============================] - 6s 210ms/step - loss: 5.0826e-04 - val_loss: 2.5561e-04\n",
      "Epoch 78/100\n",
      "29/29 [==============================] - 6s 199ms/step - loss: 4.8941e-04 - val_loss: 2.1966e-04\n",
      "Epoch 79/100\n",
      "29/29 [==============================] - 6s 202ms/step - loss: 5.0587e-04 - val_loss: 2.2103e-04\n",
      "Epoch 80/100\n",
      "29/29 [==============================] - 7s 226ms/step - loss: 4.9719e-04 - val_loss: 2.7946e-04\n",
      "Epoch 81/100\n",
      "29/29 [==============================] - 6s 203ms/step - loss: 5.7969e-04 - val_loss: 3.0650e-04\n",
      "Epoch 82/100\n",
      "29/29 [==============================] - 5s 188ms/step - loss: 4.9196e-04 - val_loss: 2.2115e-04\n",
      "Epoch 83/100\n",
      "29/29 [==============================] - 7s 231ms/step - loss: 5.1093e-04 - val_loss: 2.6221e-04\n",
      "Epoch 84/100\n",
      "29/29 [==============================] - 6s 198ms/step - loss: 5.2807e-04 - val_loss: 2.9296e-04\n",
      "Epoch 85/100\n",
      "29/29 [==============================] - 5s 185ms/step - loss: 5.2640e-04 - val_loss: 2.6522e-04\n",
      "Epoch 86/100\n",
      "29/29 [==============================] - 5s 169ms/step - loss: 4.9658e-04 - val_loss: 3.8288e-04\n",
      "Epoch 87/100\n",
      "29/29 [==============================] - 5s 163ms/step - loss: 5.7806e-04 - val_loss: 3.8218e-04\n",
      "Epoch 88/100\n",
      "29/29 [==============================] - 5s 168ms/step - loss: 5.2997e-04 - val_loss: 2.3426e-04\n",
      "Epoch 89/100\n",
      "29/29 [==============================] - 5s 178ms/step - loss: 4.7877e-04 - val_loss: 2.1683e-04\n",
      "Epoch 90/100\n",
      "29/29 [==============================] - 5s 184ms/step - loss: 4.8548e-04 - val_loss: 3.2151e-04\n",
      "Epoch 91/100\n",
      "29/29 [==============================] - 5s 189ms/step - loss: 5.2084e-04 - val_loss: 2.4078e-04\n",
      "Epoch 92/100\n",
      "29/29 [==============================] - 6s 207ms/step - loss: 4.9708e-04 - val_loss: 2.8047e-04\n",
      "Epoch 93/100\n",
      "29/29 [==============================] - 7s 244ms/step - loss: 5.3460e-04 - val_loss: 2.4327e-04\n",
      "Epoch 94/100\n",
      "29/29 [==============================] - 8s 282ms/step - loss: 4.8061e-04 - val_loss: 2.3107e-04\n",
      "Epoch 95/100\n",
      "29/29 [==============================] - 7s 233ms/step - loss: 4.8135e-04 - val_loss: 2.5685e-04\n",
      "Epoch 96/100\n",
      "29/29 [==============================] - 6s 224ms/step - loss: 5.3175e-04 - val_loss: 3.6159e-04\n",
      "Epoch 97/100\n",
      "29/29 [==============================] - 8s 274ms/step - loss: 5.9007e-04 - val_loss: 2.3696e-04\n",
      "Epoch 98/100\n",
      "29/29 [==============================] - 7s 255ms/step - loss: 4.6789e-04 - val_loss: 2.1344e-04\n",
      "Epoch 99/100\n",
      "29/29 [==============================] - 8s 279ms/step - loss: 5.3871e-04 - val_loss: 4.5743e-04\n",
      "Epoch 100/100\n",
      "29/29 [==============================] - 7s 232ms/step - loss: 5.0974e-04 - val_loss: 2.1744e-04\n"
     ]
    },
    {
     "data": {
      "text/plain": [
       "<tensorflow.python.keras.callbacks.History at 0x1f5d81bb788>"
      ]
     },
     "execution_count": 50,
     "metadata": {},
     "output_type": "execute_result"
    }
   ],
   "source": [
    "model.fit(X_train,y_train,validation_data=(X_test,ytest),epochs=100,batch_size=64,verbose=1)\n"
   ]
  },
  {
   "cell_type": "code",
   "execution_count": 51,
   "metadata": {},
   "outputs": [],
   "source": [
    "import tensorflow as tf"
   ]
  },
  {
   "cell_type": "code",
   "execution_count": 52,
   "metadata": {},
   "outputs": [
    {
     "data": {
      "text/plain": [
       "'2.2.0'"
      ]
     },
     "execution_count": 52,
     "metadata": {},
     "output_type": "execute_result"
    }
   ],
   "source": [
    "tf.__version__"
   ]
  },
  {
   "cell_type": "code",
   "execution_count": 53,
   "metadata": {},
   "outputs": [],
   "source": [
    "\n",
    "train_predict=model.predict(X_train)\n",
    "test_predict=model.predict(X_test)"
   ]
  },
  {
   "cell_type": "code",
   "execution_count": 54,
   "metadata": {},
   "outputs": [],
   "source": [
    "train_predict=scaler.inverse_transform(train_predict)\n",
    "test_predict=scaler.inverse_transform(test_predict)"
   ]
  },
  {
   "cell_type": "code",
   "execution_count": 55,
   "metadata": {},
   "outputs": [
    {
     "data": {
      "text/plain": [
       "2.0895617305039793"
      ]
     },
     "execution_count": 55,
     "metadata": {},
     "output_type": "execute_result"
    }
   ],
   "source": [
    "import math\n",
    "from sklearn.metrics import mean_squared_error\n",
    "math.sqrt(mean_squared_error(y_train,train_predict))"
   ]
  },
  {
   "cell_type": "code",
   "execution_count": 56,
   "metadata": {},
   "outputs": [
    {
     "data": {
      "text/plain": [
       "2.056198167899169"
      ]
     },
     "execution_count": 56,
     "metadata": {},
     "output_type": "execute_result"
    }
   ],
   "source": [
    "math.sqrt(mean_squared_error(ytest,test_predict))"
   ]
  },
  {
   "cell_type": "code",
   "execution_count": 58,
   "metadata": {},
   "outputs": [
    {
     "data": {
      "image/png": "[encoded data removed]",
      "text/plain": [
       "<Figure size 432x288 with 1 Axes>"
      ]
     },
     "metadata": {
      "needs_background": "light"
     },
     "output_type": "display_data"
    }
   ],
   "source": [
    "look_back=100\n",
    "trainPredictPlot = numpy.empty_like(df)\n",
    "trainPredictPlot[:, :] = np.nan\n",
    "trainPredictPlot[look_back:len(train_predict)+look_back, :] = train_predict\n",
    "\n",
    "testPredictPlot = numpy.empty_like(df)\n",
    "testPredictPlot[:, :] = numpy.nan\n",
    "testPredictPlot[len(train_predict)+(look_back*2)+1:len(df)-1, :] = test_predict\n",
    "\n",
    "plt.plot(scaler.inverse_transform(df))\n",
    "plt.plot(trainPredictPlot)\n",
    "plt.plot(testPredictPlot)\n",
    "plt.show()"
   ]
  },
  {
   "cell_type": "code",
   "execution_count": 91,
   "metadata": {},
   "outputs": [
    {
     "data": {
      "text/plain": [
       "(1, 100)"
      ]
     },
     "execution_count": 91,
     "metadata": {},
     "output_type": "execute_result"
    }
   ],
   "source": [
    "x_input=test_data[723:].reshape(1,-1)\n",
    "x_input.shape"
   ]
  },
  {
   "cell_type": "code",
   "execution_count": 92,
   "metadata": {},
   "outputs": [],
   "source": [
    "temp_input=list(x_input)\n",
    "temp_input=temp_input[0].tolist()"
   ]
  },
  {
   "cell_type": "code",
   "execution_count": 93,
   "metadata": {},
   "outputs": [
    {
     "name": "stdout",
     "output_type": "stream",
     "text": [
      "[0.19658056]\n",
      "101\n",
      "1 day input [0.12100457 0.13318113 0.14003044 0.10388128 0.1194825  0.08181126\n",
      " 0.06202435 0.06582953 0.08828006 0.07420091 0.08028919 0.09284627\n",
      " 0.06164384 0.06811263 0.04718417 0.03805175 0.05707763 0.05327245\n",
      " 0.03805175 0.03538813 0.07572298 0.07001522 0.09741248 0.12785388\n",
      " 0.13964992 0.16171994 0.2043379  0.18074581 0.16971081 0.15981735\n",
      " 0.15525114 0.14802131 0.13013699 0.10235921 0.13926941 0.12138508\n",
      " 0.11757991 0.11757991 0.10578387 0.08751903 0.06468798 0.05669711\n",
      " 0.07115677 0.06506849 0.0848554  0.11111111 0.14687976 0.13964992\n",
      " 0.15410959 0.14535769 0.14878234 0.14497717 0.16210046 0.15296804\n",
      " 0.14954338 0.152207   0.16552511 0.18531202 0.17846271 0.16438356\n",
      " 0.12366819 0.13774734 0.15981735 0.19025875 0.17047184 0.2130898\n",
      " 0.21575342 0.2195586  0.206621   0.19178082 0.17085236 0.17808219\n",
      " 0.16818874 0.15981735 0.14155251 0.15449011 0.15525114 0.15144597\n",
      " 0.14231355 0.15258752 0.17884323 0.1305175  0.15791476 0.16400304\n",
      " 0.18112633 0.1761796  0.17770167 0.16133942 0.20205479 0.17237443\n",
      " 0.20015221 0.19901065 0.21232877 0.20624049 0.20966514 0.21651446\n",
      " 0.20509893 0.19330289 0.20129376 0.19658056]\n",
      "1 day output [[0.19530231]]\n",
      "2 day input [0.13318113 0.14003044 0.10388128 0.1194825  0.08181126 0.06202435\n",
      " 0.06582953 0.08828006 0.07420091 0.08028919 0.09284627 0.06164384\n",
      " 0.06811263 0.04718417 0.03805175 0.05707763 0.05327245 0.03805175\n",
      " 0.03538813 0.07572298 0.07001522 0.09741248 0.12785388 0.13964992\n",
      " 0.16171994 0.2043379  0.18074581 0.16971081 0.15981735 0.15525114\n",
      " 0.14802131 0.13013699 0.10235921 0.13926941 0.12138508 0.11757991\n",
      " 0.11757991 0.10578387 0.08751903 0.06468798 0.05669711 0.07115677\n",
      " 0.06506849 0.0848554  0.11111111 0.14687976 0.13964992 0.15410959\n",
      " 0.14535769 0.14878234 0.14497717 0.16210046 0.15296804 0.14954338\n",
      " 0.152207   0.16552511 0.18531202 0.17846271 0.16438356 0.12366819\n",
      " 0.13774734 0.15981735 0.19025875 0.17047184 0.2130898  0.21575342\n",
      " 0.2195586  0.206621   0.19178082 0.17085236 0.17808219 0.16818874\n",
      " 0.15981735 0.14155251 0.15449011 0.15525114 0.15144597 0.14231355\n",
      " 0.15258752 0.17884323 0.1305175  0.15791476 0.16400304 0.18112633\n",
      " 0.1761796  0.17770167 0.16133942 0.20205479 0.17237443 0.20015221\n",
      " 0.19901065 0.21232877 0.20624049 0.20966514 0.21651446 0.20509893\n",
      " 0.19330289 0.20129376 0.19658056 0.19530231]\n",
      "2 day output [[0.19403729]]\n",
      "3 day input [0.14003044 0.10388128 0.1194825  0.08181126 0.06202435 0.06582953\n",
      " 0.08828006 0.07420091 0.08028919 0.09284627 0.06164384 0.06811263\n",
      " 0.04718417 0.03805175 0.05707763 0.05327245 0.03805175 0.03538813\n",
      " 0.07572298 0.07001522 0.09741248 0.12785388 0.13964992 0.16171994\n",
      " 0.2043379  0.18074581 0.16971081 0.15981735 0.15525114 0.14802131\n",
      " 0.13013699 0.10235921 0.13926941 0.12138508 0.11757991 0.11757991\n",
      " 0.10578387 0.08751903 0.06468798 0.05669711 0.07115677 0.06506849\n",
      " 0.0848554  0.11111111 0.14687976 0.13964992 0.15410959 0.14535769\n",
      " 0.14878234 0.14497717 0.16210046 0.15296804 0.14954338 0.152207\n",
      " 0.16552511 0.18531202 0.17846271 0.16438356 0.12366819 0.13774734\n",
      " 0.15981735 0.19025875 0.17047184 0.2130898  0.21575342 0.2195586\n",
      " 0.206621   0.19178082 0.17085236 0.17808219 0.16818874 0.15981735\n",
      " 0.14155251 0.15449011 0.15525114 0.15144597 0.14231355 0.15258752\n",
      " 0.17884323 0.1305175  0.15791476 0.16400304 0.18112633 0.1761796\n",
      " 0.17770167 0.16133942 0.20205479 0.17237443 0.20015221 0.19901065\n",
      " 0.21232877 0.20624049 0.20966514 0.21651446 0.20509893 0.19330289\n",
      " 0.20129376 0.19658056 0.19530231 0.19403729]\n",
      "3 day output [[0.19294827]]\n",
      "4 day input [0.10388128 0.1194825  0.08181126 0.06202435 0.06582953 0.08828006\n",
      " 0.07420091 0.08028919 0.09284627 0.06164384 0.06811263 0.04718417\n",
      " 0.03805175 0.05707763 0.05327245 0.03805175 0.03538813 0.07572298\n",
      " 0.07001522 0.09741248 0.12785388 0.13964992 0.16171994 0.2043379\n",
      " 0.18074581 0.16971081 0.15981735 0.15525114 0.14802131 0.13013699\n",
      " 0.10235921 0.13926941 0.12138508 0.11757991 0.11757991 0.10578387\n",
      " 0.08751903 0.06468798 0.05669711 0.07115677 0.06506849 0.0848554\n",
      " 0.11111111 0.14687976 0.13964992 0.15410959 0.14535769 0.14878234\n",
      " 0.14497717 0.16210046 0.15296804 0.14954338 0.152207   0.16552511\n",
      " 0.18531202 0.17846271 0.16438356 0.12366819 0.13774734 0.15981735\n",
      " 0.19025875 0.17047184 0.2130898  0.21575342 0.2195586  0.206621\n",
      " 0.19178082 0.17085236 0.17808219 0.16818874 0.15981735 0.14155251\n",
      " 0.15449011 0.15525114 0.15144597 0.14231355 0.15258752 0.17884323\n",
      " 0.1305175  0.15791476 0.16400304 0.18112633 0.1761796  0.17770167\n",
      " 0.16133942 0.20205479 0.17237443 0.20015221 0.19901065 0.21232877\n",
      " 0.20624049 0.20966514 0.21651446 0.20509893 0.19330289 0.20129376\n",
      " 0.19658056 0.19530231 0.19403729 0.19294827]\n",
      "4 day output [[0.19186777]]\n",
      "5 day input [0.1194825  0.08181126 0.06202435 0.06582953 0.08828006 0.07420091\n",
      " 0.08028919 0.09284627 0.06164384 0.06811263 0.04718417 0.03805175\n",
      " 0.05707763 0.05327245 0.03805175 0.03538813 0.07572298 0.07001522\n",
      " 0.09741248 0.12785388 0.13964992 0.16171994 0.2043379  0.18074581\n",
      " 0.16971081 0.15981735 0.15525114 0.14802131 0.13013699 0.10235921\n",
      " 0.13926941 0.12138508 0.11757991 0.11757991 0.10578387 0.08751903\n",
      " 0.06468798 0.05669711 0.07115677 0.06506849 0.0848554  0.11111111\n",
      " 0.14687976 0.13964992 0.15410959 0.14535769 0.14878234 0.14497717\n",
      " 0.16210046 0.15296804 0.14954338 0.152207   0.16552511 0.18531202\n",
      " 0.17846271 0.16438356 0.12366819 0.13774734 0.15981735 0.19025875\n",
      " 0.17047184 0.2130898  0.21575342 0.2195586  0.206621   0.19178082\n",
      " 0.17085236 0.17808219 0.16818874 0.15981735 0.14155251 0.15449011\n",
      " 0.15525114 0.15144597 0.14231355 0.15258752 0.17884323 0.1305175\n",
      " 0.15791476 0.16400304 0.18112633 0.1761796  0.17770167 0.16133942\n",
      " 0.20205479 0.17237443 0.20015221 0.19901065 0.21232877 0.20624049\n",
      " 0.20966514 0.21651446 0.20509893 0.19330289 0.20129376 0.19658056\n",
      " 0.19530231 0.19403729 0.19294827 0.19186777]\n",
      "5 day output [[0.19071436]]\n",
      "6 day input [0.08181126 0.06202435 0.06582953 0.08828006 0.07420091 0.08028919\n",
      " 0.09284627 0.06164384 0.06811263 0.04718417 0.03805175 0.05707763\n",
      " 0.05327245 0.03805175 0.03538813 0.07572298 0.07001522 0.09741248\n",
      " 0.12785388 0.13964992 0.16171994 0.2043379  0.18074581 0.16971081\n",
      " 0.15981735 0.15525114 0.14802131 0.13013699 0.10235921 0.13926941\n",
      " 0.12138508 0.11757991 0.11757991 0.10578387 0.08751903 0.06468798\n",
      " 0.05669711 0.07115677 0.06506849 0.0848554  0.11111111 0.14687976\n",
      " 0.13964992 0.15410959 0.14535769 0.14878234 0.14497717 0.16210046\n",
      " 0.15296804 0.14954338 0.152207   0.16552511 0.18531202 0.17846271\n",
      " 0.16438356 0.12366819 0.13774734 0.15981735 0.19025875 0.17047184\n",
      " 0.2130898  0.21575342 0.2195586  0.206621   0.19178082 0.17085236\n",
      " 0.17808219 0.16818874 0.15981735 0.14155251 0.15449011 0.15525114\n",
      " 0.15144597 0.14231355 0.15258752 0.17884323 0.1305175  0.15791476\n",
      " 0.16400304 0.18112633 0.1761796  0.17770167 0.16133942 0.20205479\n",
      " 0.17237443 0.20015221 0.19901065 0.21232877 0.20624049 0.20966514\n",
      " 0.21651446 0.20509893 0.19330289 0.20129376 0.19658056 0.19530231\n",
      " 0.19403729 0.19294827 0.19186777 0.19071436]\n",
      "6 day output [[0.189448]]\n",
      "7 day input [0.06202435 0.06582953 0.08828006 0.07420091 0.08028919 0.09284627\n",
      " 0.06164384 0.06811263 0.04718417 0.03805175 0.05707763 0.05327245\n",
      " 0.03805175 0.03538813 0.07572298 0.07001522 0.09741248 0.12785388\n",
      " 0.13964992 0.16171994 0.2043379  0.18074581 0.16971081 0.15981735\n",
      " 0.15525114 0.14802131 0.13013699 0.10235921 0.13926941 0.12138508\n",
      " 0.11757991 0.11757991 0.10578387 0.08751903 0.06468798 0.05669711\n",
      " 0.07115677 0.06506849 0.0848554  0.11111111 0.14687976 0.13964992\n",
      " 0.15410959 0.14535769 0.14878234 0.14497717 0.16210046 0.15296804\n",
      " 0.14954338 0.152207   0.16552511 0.18531202 0.17846271 0.16438356\n",
      " 0.12366819 0.13774734 0.15981735 0.19025875 0.17047184 0.2130898\n",
      " 0.21575342 0.2195586  0.206621   0.19178082 0.17085236 0.17808219\n",
      " 0.16818874 0.15981735 0.14155251 0.15449011 0.15525114 0.15144597\n",
      " 0.14231355 0.15258752 0.17884323 0.1305175  0.15791476 0.16400304\n",
      " 0.18112633 0.1761796  0.17770167 0.16133942 0.20205479 0.17237443\n",
      " 0.20015221 0.19901065 0.21232877 0.20624049 0.20966514 0.21651446\n",
      " 0.20509893 0.19330289 0.20129376 0.19658056 0.19530231 0.19403729\n",
      " 0.19294827 0.19186777 0.19071436 0.189448  ]\n",
      "7 day output [[0.188061]]\n",
      "8 day input [0.06582953 0.08828006 0.07420091 0.08028919 0.09284627 0.06164384\n",
      " 0.06811263 0.04718417 0.03805175 0.05707763 0.05327245 0.03805175\n",
      " 0.03538813 0.07572298 0.07001522 0.09741248 0.12785388 0.13964992\n",
      " 0.16171994 0.2043379  0.18074581 0.16971081 0.15981735 0.15525114\n",
      " 0.14802131 0.13013699 0.10235921 0.13926941 0.12138508 0.11757991\n",
      " 0.11757991 0.10578387 0.08751903 0.06468798 0.05669711 0.07115677\n",
      " 0.06506849 0.0848554  0.11111111 0.14687976 0.13964992 0.15410959\n",
      " 0.14535769 0.14878234 0.14497717 0.16210046 0.15296804 0.14954338\n",
      " 0.152207   0.16552511 0.18531202 0.17846271 0.16438356 0.12366819\n",
      " 0.13774734 0.15981735 0.19025875 0.17047184 0.2130898  0.21575342\n",
      " 0.2195586  0.206621   0.19178082 0.17085236 0.17808219 0.16818874\n",
      " 0.15981735 0.14155251 0.15449011 0.15525114 0.15144597 0.14231355\n",
      " 0.15258752 0.17884323 0.1305175  0.15791476 0.16400304 0.18112633\n",
      " 0.1761796  0.17770167 0.16133942 0.20205479 0.17237443 0.20015221\n",
      " 0.19901065 0.21232877 0.20624049 0.20966514 0.21651446 0.20509893\n",
      " 0.19330289 0.20129376 0.19658056 0.19530231 0.19403729 0.19294827\n",
      " 0.19186777 0.19071436 0.189448   0.188061  ]\n",
      "8 day output [[0.18657115]]\n",
      "9 day input [0.08828006 0.07420091 0.08028919 0.09284627 0.06164384 0.06811263\n",
      " 0.04718417 0.03805175 0.05707763 0.05327245 0.03805175 0.03538813\n",
      " 0.07572298 0.07001522 0.09741248 0.12785388 0.13964992 0.16171994\n",
      " 0.2043379  0.18074581 0.16971081 0.15981735 0.15525114 0.14802131\n",
      " 0.13013699 0.10235921 0.13926941 0.12138508 0.11757991 0.11757991\n",
      " 0.10578387 0.08751903 0.06468798 0.05669711 0.07115677 0.06506849\n",
      " 0.0848554  0.11111111 0.14687976 0.13964992 0.15410959 0.14535769\n",
      " 0.14878234 0.14497717 0.16210046 0.15296804 0.14954338 0.152207\n",
      " 0.16552511 0.18531202 0.17846271 0.16438356 0.12366819 0.13774734\n",
      " 0.15981735 0.19025875 0.17047184 0.2130898  0.21575342 0.2195586\n",
      " 0.206621   0.19178082 0.17085236 0.17808219 0.16818874 0.15981735\n",
      " 0.14155251 0.15449011 0.15525114 0.15144597 0.14231355 0.15258752\n",
      " 0.17884323 0.1305175  0.15791476 0.16400304 0.18112633 0.1761796\n",
      " 0.17770167 0.16133942 0.20205479 0.17237443 0.20015221 0.19901065\n",
      " 0.21232877 0.20624049 0.20966514 0.21651446 0.20509893 0.19330289\n",
      " 0.20129376 0.19658056 0.19530231 0.19403729 0.19294827 0.19186777\n",
      " 0.19071436 0.189448   0.188061   0.18657115]\n",
      "9 day output [[0.18501152]]\n",
      "10 day input [0.07420091 0.08028919 0.09284627 0.06164384 0.06811263 0.04718417\n",
      " 0.03805175 0.05707763 0.05327245 0.03805175 0.03538813 0.07572298\n",
      " 0.07001522 0.09741248 0.12785388 0.13964992 0.16171994 0.2043379\n",
      " 0.18074581 0.16971081 0.15981735 0.15525114 0.14802131 0.13013699\n",
      " 0.10235921 0.13926941 0.12138508 0.11757991 0.11757991 0.10578387\n",
      " 0.08751903 0.06468798 0.05669711 0.07115677 0.06506849 0.0848554\n",
      " 0.11111111 0.14687976 0.13964992 0.15410959 0.14535769 0.14878234\n",
      " 0.14497717 0.16210046 0.15296804 0.14954338 0.152207   0.16552511\n",
      " 0.18531202 0.17846271 0.16438356 0.12366819 0.13774734 0.15981735\n",
      " 0.19025875 0.17047184 0.2130898  0.21575342 0.2195586  0.206621\n",
      " 0.19178082 0.17085236 0.17808219 0.16818874 0.15981735 0.14155251\n",
      " 0.15449011 0.15525114 0.15144597 0.14231355 0.15258752 0.17884323\n",
      " 0.1305175  0.15791476 0.16400304 0.18112633 0.1761796  0.17770167\n",
      " 0.16133942 0.20205479 0.17237443 0.20015221 0.19901065 0.21232877\n",
      " 0.20624049 0.20966514 0.21651446 0.20509893 0.19330289 0.20129376\n",
      " 0.19658056 0.19530231 0.19403729 0.19294827 0.19186777 0.19071436\n"
     ]
    },
    {
     "name": "stdout",
     "output_type": "stream",
     "text": [
      " 0.189448   0.188061   0.18657115 0.18501152]\n",
      "10 day output [[0.18342035]]\n",
      "11 day input [0.08028919 0.09284627 0.06164384 0.06811263 0.04718417 0.03805175\n",
      " 0.05707763 0.05327245 0.03805175 0.03538813 0.07572298 0.07001522\n",
      " 0.09741248 0.12785388 0.13964992 0.16171994 0.2043379  0.18074581\n",
      " 0.16971081 0.15981735 0.15525114 0.14802131 0.13013699 0.10235921\n",
      " 0.13926941 0.12138508 0.11757991 0.11757991 0.10578387 0.08751903\n",
      " 0.06468798 0.05669711 0.07115677 0.06506849 0.0848554  0.11111111\n",
      " 0.14687976 0.13964992 0.15410959 0.14535769 0.14878234 0.14497717\n",
      " 0.16210046 0.15296804 0.14954338 0.152207   0.16552511 0.18531202\n",
      " 0.17846271 0.16438356 0.12366819 0.13774734 0.15981735 0.19025875\n",
      " 0.17047184 0.2130898  0.21575342 0.2195586  0.206621   0.19178082\n",
      " 0.17085236 0.17808219 0.16818874 0.15981735 0.14155251 0.15449011\n",
      " 0.15525114 0.15144597 0.14231355 0.15258752 0.17884323 0.1305175\n",
      " 0.15791476 0.16400304 0.18112633 0.1761796  0.17770167 0.16133942\n",
      " 0.20205479 0.17237443 0.20015221 0.19901065 0.21232877 0.20624049\n",
      " 0.20966514 0.21651446 0.20509893 0.19330289 0.20129376 0.19658056\n",
      " 0.19530231 0.19403729 0.19294827 0.19186777 0.19071436 0.189448\n",
      " 0.188061   0.18657115 0.18501152 0.18342035]\n",
      "11 day output [[0.1818338]]\n",
      "12 day input [0.09284627 0.06164384 0.06811263 0.04718417 0.03805175 0.05707763\n",
      " 0.05327245 0.03805175 0.03538813 0.07572298 0.07001522 0.09741248\n",
      " 0.12785388 0.13964992 0.16171994 0.2043379  0.18074581 0.16971081\n",
      " 0.15981735 0.15525114 0.14802131 0.13013699 0.10235921 0.13926941\n",
      " 0.12138508 0.11757991 0.11757991 0.10578387 0.08751903 0.06468798\n",
      " 0.05669711 0.07115677 0.06506849 0.0848554  0.11111111 0.14687976\n",
      " 0.13964992 0.15410959 0.14535769 0.14878234 0.14497717 0.16210046\n",
      " 0.15296804 0.14954338 0.152207   0.16552511 0.18531202 0.17846271\n",
      " 0.16438356 0.12366819 0.13774734 0.15981735 0.19025875 0.17047184\n",
      " 0.2130898  0.21575342 0.2195586  0.206621   0.19178082 0.17085236\n",
      " 0.17808219 0.16818874 0.15981735 0.14155251 0.15449011 0.15525114\n",
      " 0.15144597 0.14231355 0.15258752 0.17884323 0.1305175  0.15791476\n",
      " 0.16400304 0.18112633 0.1761796  0.17770167 0.16133942 0.20205479\n",
      " 0.17237443 0.20015221 0.19901065 0.21232877 0.20624049 0.20966514\n",
      " 0.21651446 0.20509893 0.19330289 0.20129376 0.19658056 0.19530231\n",
      " 0.19403729 0.19294827 0.19186777 0.19071436 0.189448   0.188061\n",
      " 0.18657115 0.18501152 0.18342035 0.1818338 ]\n",
      "12 day output [[0.18028085]]\n",
      "13 day input [0.06164384 0.06811263 0.04718417 0.03805175 0.05707763 0.05327245\n",
      " 0.03805175 0.03538813 0.07572298 0.07001522 0.09741248 0.12785388\n",
      " 0.13964992 0.16171994 0.2043379  0.18074581 0.16971081 0.15981735\n",
      " 0.15525114 0.14802131 0.13013699 0.10235921 0.13926941 0.12138508\n",
      " 0.11757991 0.11757991 0.10578387 0.08751903 0.06468798 0.05669711\n",
      " 0.07115677 0.06506849 0.0848554  0.11111111 0.14687976 0.13964992\n",
      " 0.15410959 0.14535769 0.14878234 0.14497717 0.16210046 0.15296804\n",
      " 0.14954338 0.152207   0.16552511 0.18531202 0.17846271 0.16438356\n",
      " 0.12366819 0.13774734 0.15981735 0.19025875 0.17047184 0.2130898\n",
      " 0.21575342 0.2195586  0.206621   0.19178082 0.17085236 0.17808219\n",
      " 0.16818874 0.15981735 0.14155251 0.15449011 0.15525114 0.15144597\n",
      " 0.14231355 0.15258752 0.17884323 0.1305175  0.15791476 0.16400304\n",
      " 0.18112633 0.1761796  0.17770167 0.16133942 0.20205479 0.17237443\n",
      " 0.20015221 0.19901065 0.21232877 0.20624049 0.20966514 0.21651446\n",
      " 0.20509893 0.19330289 0.20129376 0.19658056 0.19530231 0.19403729\n",
      " 0.19294827 0.19186777 0.19071436 0.189448   0.188061   0.18657115\n",
      " 0.18501152 0.18342035 0.1818338  0.18028085]\n",
      "13 day output [[0.17878091]]\n",
      "14 day input [0.06811263 0.04718417 0.03805175 0.05707763 0.05327245 0.03805175\n",
      " 0.03538813 0.07572298 0.07001522 0.09741248 0.12785388 0.13964992\n",
      " 0.16171994 0.2043379  0.18074581 0.16971081 0.15981735 0.15525114\n",
      " 0.14802131 0.13013699 0.10235921 0.13926941 0.12138508 0.11757991\n",
      " 0.11757991 0.10578387 0.08751903 0.06468798 0.05669711 0.07115677\n",
      " 0.06506849 0.0848554  0.11111111 0.14687976 0.13964992 0.15410959\n",
      " 0.14535769 0.14878234 0.14497717 0.16210046 0.15296804 0.14954338\n",
      " 0.152207   0.16552511 0.18531202 0.17846271 0.16438356 0.12366819\n",
      " 0.13774734 0.15981735 0.19025875 0.17047184 0.2130898  0.21575342\n",
      " 0.2195586  0.206621   0.19178082 0.17085236 0.17808219 0.16818874\n",
      " 0.15981735 0.14155251 0.15449011 0.15525114 0.15144597 0.14231355\n",
      " 0.15258752 0.17884323 0.1305175  0.15791476 0.16400304 0.18112633\n",
      " 0.1761796  0.17770167 0.16133942 0.20205479 0.17237443 0.20015221\n",
      " 0.19901065 0.21232877 0.20624049 0.20966514 0.21651446 0.20509893\n",
      " 0.19330289 0.20129376 0.19658056 0.19530231 0.19403729 0.19294827\n",
      " 0.19186777 0.19071436 0.189448   0.188061   0.18657115 0.18501152\n",
      " 0.18342035 0.1818338  0.18028085 0.17878091]\n",
      "14 day output [[0.17734401]]\n",
      "15 day input [0.04718417 0.03805175 0.05707763 0.05327245 0.03805175 0.03538813\n",
      " 0.07572298 0.07001522 0.09741248 0.12785388 0.13964992 0.16171994\n",
      " 0.2043379  0.18074581 0.16971081 0.15981735 0.15525114 0.14802131\n",
      " 0.13013699 0.10235921 0.13926941 0.12138508 0.11757991 0.11757991\n",
      " 0.10578387 0.08751903 0.06468798 0.05669711 0.07115677 0.06506849\n",
      " 0.0848554  0.11111111 0.14687976 0.13964992 0.15410959 0.14535769\n",
      " 0.14878234 0.14497717 0.16210046 0.15296804 0.14954338 0.152207\n",
      " 0.16552511 0.18531202 0.17846271 0.16438356 0.12366819 0.13774734\n",
      " 0.15981735 0.19025875 0.17047184 0.2130898  0.21575342 0.2195586\n",
      " 0.206621   0.19178082 0.17085236 0.17808219 0.16818874 0.15981735\n",
      " 0.14155251 0.15449011 0.15525114 0.15144597 0.14231355 0.15258752\n",
      " 0.17884323 0.1305175  0.15791476 0.16400304 0.18112633 0.1761796\n",
      " 0.17770167 0.16133942 0.20205479 0.17237443 0.20015221 0.19901065\n",
      " 0.21232877 0.20624049 0.20966514 0.21651446 0.20509893 0.19330289\n",
      " 0.20129376 0.19658056 0.19530231 0.19403729 0.19294827 0.19186777\n",
      " 0.19071436 0.189448   0.188061   0.18657115 0.18501152 0.18342035\n",
      " 0.1818338  0.18028085 0.17878091 0.17734401]\n",
      "15 day output [[0.17597225]]\n",
      "16 day input [0.03805175 0.05707763 0.05327245 0.03805175 0.03538813 0.07572298\n",
      " 0.07001522 0.09741248 0.12785388 0.13964992 0.16171994 0.2043379\n",
      " 0.18074581 0.16971081 0.15981735 0.15525114 0.14802131 0.13013699\n",
      " 0.10235921 0.13926941 0.12138508 0.11757991 0.11757991 0.10578387\n",
      " 0.08751903 0.06468798 0.05669711 0.07115677 0.06506849 0.0848554\n",
      " 0.11111111 0.14687976 0.13964992 0.15410959 0.14535769 0.14878234\n",
      " 0.14497717 0.16210046 0.15296804 0.14954338 0.152207   0.16552511\n",
      " 0.18531202 0.17846271 0.16438356 0.12366819 0.13774734 0.15981735\n",
      " 0.19025875 0.17047184 0.2130898  0.21575342 0.2195586  0.206621\n",
      " 0.19178082 0.17085236 0.17808219 0.16818874 0.15981735 0.14155251\n",
      " 0.15449011 0.15525114 0.15144597 0.14231355 0.15258752 0.17884323\n",
      " 0.1305175  0.15791476 0.16400304 0.18112633 0.1761796  0.17770167\n",
      " 0.16133942 0.20205479 0.17237443 0.20015221 0.19901065 0.21232877\n",
      " 0.20624049 0.20966514 0.21651446 0.20509893 0.19330289 0.20129376\n",
      " 0.19658056 0.19530231 0.19403729 0.19294827 0.19186777 0.19071436\n",
      " 0.189448   0.188061   0.18657115 0.18501152 0.18342035 0.1818338\n",
      " 0.18028085 0.17878091 0.17734401 0.17597225]\n",
      "16 day output [[0.17466176]]\n",
      "17 day input [0.05707763 0.05327245 0.03805175 0.03538813 0.07572298 0.07001522\n",
      " 0.09741248 0.12785388 0.13964992 0.16171994 0.2043379  0.18074581\n",
      " 0.16971081 0.15981735 0.15525114 0.14802131 0.13013699 0.10235921\n",
      " 0.13926941 0.12138508 0.11757991 0.11757991 0.10578387 0.08751903\n",
      " 0.06468798 0.05669711 0.07115677 0.06506849 0.0848554  0.11111111\n",
      " 0.14687976 0.13964992 0.15410959 0.14535769 0.14878234 0.14497717\n",
      " 0.16210046 0.15296804 0.14954338 0.152207   0.16552511 0.18531202\n",
      " 0.17846271 0.16438356 0.12366819 0.13774734 0.15981735 0.19025875\n",
      " 0.17047184 0.2130898  0.21575342 0.2195586  0.206621   0.19178082\n",
      " 0.17085236 0.17808219 0.16818874 0.15981735 0.14155251 0.15449011\n",
      " 0.15525114 0.15144597 0.14231355 0.15258752 0.17884323 0.1305175\n",
      " 0.15791476 0.16400304 0.18112633 0.1761796  0.17770167 0.16133942\n",
      " 0.20205479 0.17237443 0.20015221 0.19901065 0.21232877 0.20624049\n",
      " 0.20966514 0.21651446 0.20509893 0.19330289 0.20129376 0.19658056\n",
      " 0.19530231 0.19403729 0.19294827 0.19186777 0.19071436 0.189448\n",
      " 0.188061   0.18657115 0.18501152 0.18342035 0.1818338  0.18028085\n",
      " 0.17878091 0.17734401 0.17597225 0.17466176]\n",
      "17 day output [[0.17340529]]\n",
      "18 day input [0.05327245 0.03805175 0.03538813 0.07572298 0.07001522 0.09741248\n",
      " 0.12785388 0.13964992 0.16171994 0.2043379  0.18074581 0.16971081\n",
      " 0.15981735 0.15525114 0.14802131 0.13013699 0.10235921 0.13926941\n",
      " 0.12138508 0.11757991 0.11757991 0.10578387 0.08751903 0.06468798\n",
      " 0.05669711 0.07115677 0.06506849 0.0848554  0.11111111 0.14687976\n",
      " 0.13964992 0.15410959 0.14535769 0.14878234 0.14497717 0.16210046\n",
      " 0.15296804 0.14954338 0.152207   0.16552511 0.18531202 0.17846271\n",
      " 0.16438356 0.12366819 0.13774734 0.15981735 0.19025875 0.17047184\n",
      " 0.2130898  0.21575342 0.2195586  0.206621   0.19178082 0.17085236\n",
      " 0.17808219 0.16818874 0.15981735 0.14155251 0.15449011 0.15525114\n",
      " 0.15144597 0.14231355 0.15258752 0.17884323 0.1305175  0.15791476\n",
      " 0.16400304 0.18112633 0.1761796  0.17770167 0.16133942 0.20205479\n",
      " 0.17237443 0.20015221 0.19901065 0.21232877 0.20624049 0.20966514\n",
      " 0.21651446 0.20509893 0.19330289 0.20129376 0.19658056 0.19530231\n",
      " 0.19403729 0.19294827 0.19186777 0.19071436 0.189448   0.188061\n",
      " 0.18657115 0.18501152 0.18342035 0.1818338  0.18028085 0.17878091\n",
      " 0.17734401 0.17597225 0.17466176 0.17340529]\n",
      "18 day output [[0.1721943]]\n",
      "19 day input [0.03805175 0.03538813 0.07572298 0.07001522 0.09741248 0.12785388\n",
      " 0.13964992 0.16171994 0.2043379  0.18074581 0.16971081 0.15981735\n",
      " 0.15525114 0.14802131 0.13013699 0.10235921 0.13926941 0.12138508\n",
      " 0.11757991 0.11757991 0.10578387 0.08751903 0.06468798 0.05669711\n",
      " 0.07115677 0.06506849 0.0848554  0.11111111 0.14687976 0.13964992\n",
      " 0.15410959 0.14535769 0.14878234 0.14497717 0.16210046 0.15296804\n",
      " 0.14954338 0.152207   0.16552511 0.18531202 0.17846271 0.16438356\n",
      " 0.12366819 0.13774734 0.15981735 0.19025875 0.17047184 0.2130898\n",
      " 0.21575342 0.2195586  0.206621   0.19178082 0.17085236 0.17808219\n",
      " 0.16818874 0.15981735 0.14155251 0.15449011 0.15525114 0.15144597\n",
      " 0.14231355 0.15258752 0.17884323 0.1305175  0.15791476 0.16400304\n",
      " 0.18112633 0.1761796  0.17770167 0.16133942 0.20205479 0.17237443\n",
      " 0.20015221 0.19901065 0.21232877 0.20624049 0.20966514 0.21651446\n",
      " 0.20509893 0.19330289 0.20129376 0.19658056 0.19530231 0.19403729\n",
      " 0.19294827 0.19186777 0.19071436 0.189448   0.188061   0.18657115\n",
      " 0.18501152 0.18342035 0.1818338  0.18028085 0.17878091 0.17734401\n"
     ]
    },
    {
     "name": "stdout",
     "output_type": "stream",
     "text": [
      " 0.17597225 0.17466176 0.17340529 0.1721943 ]\n",
      "19 day output [[0.17102022]]\n",
      "20 day input [0.03538813 0.07572298 0.07001522 0.09741248 0.12785388 0.13964992\n",
      " 0.16171994 0.2043379  0.18074581 0.16971081 0.15981735 0.15525114\n",
      " 0.14802131 0.13013699 0.10235921 0.13926941 0.12138508 0.11757991\n",
      " 0.11757991 0.10578387 0.08751903 0.06468798 0.05669711 0.07115677\n",
      " 0.06506849 0.0848554  0.11111111 0.14687976 0.13964992 0.15410959\n",
      " 0.14535769 0.14878234 0.14497717 0.16210046 0.15296804 0.14954338\n",
      " 0.152207   0.16552511 0.18531202 0.17846271 0.16438356 0.12366819\n",
      " 0.13774734 0.15981735 0.19025875 0.17047184 0.2130898  0.21575342\n",
      " 0.2195586  0.206621   0.19178082 0.17085236 0.17808219 0.16818874\n",
      " 0.15981735 0.14155251 0.15449011 0.15525114 0.15144597 0.14231355\n",
      " 0.15258752 0.17884323 0.1305175  0.15791476 0.16400304 0.18112633\n",
      " 0.1761796  0.17770167 0.16133942 0.20205479 0.17237443 0.20015221\n",
      " 0.19901065 0.21232877 0.20624049 0.20966514 0.21651446 0.20509893\n",
      " 0.19330289 0.20129376 0.19658056 0.19530231 0.19403729 0.19294827\n",
      " 0.19186777 0.19071436 0.189448   0.188061   0.18657115 0.18501152\n",
      " 0.18342035 0.1818338  0.18028085 0.17878091 0.17734401 0.17597225\n",
      " 0.17466176 0.17340529 0.1721943  0.17102022]\n",
      "20 day output [[0.16987617]]\n",
      "21 day input [0.07572298 0.07001522 0.09741248 0.12785388 0.13964992 0.16171994\n",
      " 0.2043379  0.18074581 0.16971081 0.15981735 0.15525114 0.14802131\n",
      " 0.13013699 0.10235921 0.13926941 0.12138508 0.11757991 0.11757991\n",
      " 0.10578387 0.08751903 0.06468798 0.05669711 0.07115677 0.06506849\n",
      " 0.0848554  0.11111111 0.14687976 0.13964992 0.15410959 0.14535769\n",
      " 0.14878234 0.14497717 0.16210046 0.15296804 0.14954338 0.152207\n",
      " 0.16552511 0.18531202 0.17846271 0.16438356 0.12366819 0.13774734\n",
      " 0.15981735 0.19025875 0.17047184 0.2130898  0.21575342 0.2195586\n",
      " 0.206621   0.19178082 0.17085236 0.17808219 0.16818874 0.15981735\n",
      " 0.14155251 0.15449011 0.15525114 0.15144597 0.14231355 0.15258752\n",
      " 0.17884323 0.1305175  0.15791476 0.16400304 0.18112633 0.1761796\n",
      " 0.17770167 0.16133942 0.20205479 0.17237443 0.20015221 0.19901065\n",
      " 0.21232877 0.20624049 0.20966514 0.21651446 0.20509893 0.19330289\n",
      " 0.20129376 0.19658056 0.19530231 0.19403729 0.19294827 0.19186777\n",
      " 0.19071436 0.189448   0.188061   0.18657115 0.18501152 0.18342035\n",
      " 0.1818338  0.18028085 0.17878091 0.17734401 0.17597225 0.17466176\n",
      " 0.17340529 0.1721943  0.17102022 0.16987617]\n",
      "21 day output [[0.1687566]]\n",
      "22 day input [0.07001522 0.09741248 0.12785388 0.13964992 0.16171994 0.2043379\n",
      " 0.18074581 0.16971081 0.15981735 0.15525114 0.14802131 0.13013699\n",
      " 0.10235921 0.13926941 0.12138508 0.11757991 0.11757991 0.10578387\n",
      " 0.08751903 0.06468798 0.05669711 0.07115677 0.06506849 0.0848554\n",
      " 0.11111111 0.14687976 0.13964992 0.15410959 0.14535769 0.14878234\n",
      " 0.14497717 0.16210046 0.15296804 0.14954338 0.152207   0.16552511\n",
      " 0.18531202 0.17846271 0.16438356 0.12366819 0.13774734 0.15981735\n",
      " 0.19025875 0.17047184 0.2130898  0.21575342 0.2195586  0.206621\n",
      " 0.19178082 0.17085236 0.17808219 0.16818874 0.15981735 0.14155251\n",
      " 0.15449011 0.15525114 0.15144597 0.14231355 0.15258752 0.17884323\n",
      " 0.1305175  0.15791476 0.16400304 0.18112633 0.1761796  0.17770167\n",
      " 0.16133942 0.20205479 0.17237443 0.20015221 0.19901065 0.21232877\n",
      " 0.20624049 0.20966514 0.21651446 0.20509893 0.19330289 0.20129376\n",
      " 0.19658056 0.19530231 0.19403729 0.19294827 0.19186777 0.19071436\n",
      " 0.189448   0.188061   0.18657115 0.18501152 0.18342035 0.1818338\n",
      " 0.18028085 0.17878091 0.17734401 0.17597225 0.17466176 0.17340529\n",
      " 0.1721943  0.17102022 0.16987617 0.1687566 ]\n",
      "22 day output [[0.16765805]]\n",
      "23 day input [0.09741248 0.12785388 0.13964992 0.16171994 0.2043379  0.18074581\n",
      " 0.16971081 0.15981735 0.15525114 0.14802131 0.13013699 0.10235921\n",
      " 0.13926941 0.12138508 0.11757991 0.11757991 0.10578387 0.08751903\n",
      " 0.06468798 0.05669711 0.07115677 0.06506849 0.0848554  0.11111111\n",
      " 0.14687976 0.13964992 0.15410959 0.14535769 0.14878234 0.14497717\n",
      " 0.16210046 0.15296804 0.14954338 0.152207   0.16552511 0.18531202\n",
      " 0.17846271 0.16438356 0.12366819 0.13774734 0.15981735 0.19025875\n",
      " 0.17047184 0.2130898  0.21575342 0.2195586  0.206621   0.19178082\n",
      " 0.17085236 0.17808219 0.16818874 0.15981735 0.14155251 0.15449011\n",
      " 0.15525114 0.15144597 0.14231355 0.15258752 0.17884323 0.1305175\n",
      " 0.15791476 0.16400304 0.18112633 0.1761796  0.17770167 0.16133942\n",
      " 0.20205479 0.17237443 0.20015221 0.19901065 0.21232877 0.20624049\n",
      " 0.20966514 0.21651446 0.20509893 0.19330289 0.20129376 0.19658056\n",
      " 0.19530231 0.19403729 0.19294827 0.19186777 0.19071436 0.189448\n",
      " 0.188061   0.18657115 0.18501152 0.18342035 0.1818338  0.18028085\n",
      " 0.17878091 0.17734401 0.17597225 0.17466176 0.17340529 0.1721943\n",
      " 0.17102022 0.16987617 0.1687566  0.16765805]\n",
      "23 day output [[0.16657825]]\n",
      "24 day input [0.12785388 0.13964992 0.16171994 0.2043379  0.18074581 0.16971081\n",
      " 0.15981735 0.15525114 0.14802131 0.13013699 0.10235921 0.13926941\n",
      " 0.12138508 0.11757991 0.11757991 0.10578387 0.08751903 0.06468798\n",
      " 0.05669711 0.07115677 0.06506849 0.0848554  0.11111111 0.14687976\n",
      " 0.13964992 0.15410959 0.14535769 0.14878234 0.14497717 0.16210046\n",
      " 0.15296804 0.14954338 0.152207   0.16552511 0.18531202 0.17846271\n",
      " 0.16438356 0.12366819 0.13774734 0.15981735 0.19025875 0.17047184\n",
      " 0.2130898  0.21575342 0.2195586  0.206621   0.19178082 0.17085236\n",
      " 0.17808219 0.16818874 0.15981735 0.14155251 0.15449011 0.15525114\n",
      " 0.15144597 0.14231355 0.15258752 0.17884323 0.1305175  0.15791476\n",
      " 0.16400304 0.18112633 0.1761796  0.17770167 0.16133942 0.20205479\n",
      " 0.17237443 0.20015221 0.19901065 0.21232877 0.20624049 0.20966514\n",
      " 0.21651446 0.20509893 0.19330289 0.20129376 0.19658056 0.19530231\n",
      " 0.19403729 0.19294827 0.19186777 0.19071436 0.189448   0.188061\n",
      " 0.18657115 0.18501152 0.18342035 0.1818338  0.18028085 0.17878091\n",
      " 0.17734401 0.17597225 0.17466176 0.17340529 0.1721943  0.17102022\n",
      " 0.16987617 0.1687566  0.16765805 0.16657825]\n",
      "24 day output [[0.16551639]]\n",
      "25 day input [0.13964992 0.16171994 0.2043379  0.18074581 0.16971081 0.15981735\n",
      " 0.15525114 0.14802131 0.13013699 0.10235921 0.13926941 0.12138508\n",
      " 0.11757991 0.11757991 0.10578387 0.08751903 0.06468798 0.05669711\n",
      " 0.07115677 0.06506849 0.0848554  0.11111111 0.14687976 0.13964992\n",
      " 0.15410959 0.14535769 0.14878234 0.14497717 0.16210046 0.15296804\n",
      " 0.14954338 0.152207   0.16552511 0.18531202 0.17846271 0.16438356\n",
      " 0.12366819 0.13774734 0.15981735 0.19025875 0.17047184 0.2130898\n",
      " 0.21575342 0.2195586  0.206621   0.19178082 0.17085236 0.17808219\n",
      " 0.16818874 0.15981735 0.14155251 0.15449011 0.15525114 0.15144597\n",
      " 0.14231355 0.15258752 0.17884323 0.1305175  0.15791476 0.16400304\n",
      " 0.18112633 0.1761796  0.17770167 0.16133942 0.20205479 0.17237443\n",
      " 0.20015221 0.19901065 0.21232877 0.20624049 0.20966514 0.21651446\n",
      " 0.20509893 0.19330289 0.20129376 0.19658056 0.19530231 0.19403729\n",
      " 0.19294827 0.19186777 0.19071436 0.189448   0.188061   0.18657115\n",
      " 0.18501152 0.18342035 0.1818338  0.18028085 0.17878091 0.17734401\n",
      " 0.17597225 0.17466176 0.17340529 0.1721943  0.17102022 0.16987617\n",
      " 0.1687566  0.16765805 0.16657825 0.16551639]\n",
      "25 day output [[0.1644721]]\n",
      "26 day input [0.16171994 0.2043379  0.18074581 0.16971081 0.15981735 0.15525114\n",
      " 0.14802131 0.13013699 0.10235921 0.13926941 0.12138508 0.11757991\n",
      " 0.11757991 0.10578387 0.08751903 0.06468798 0.05669711 0.07115677\n",
      " 0.06506849 0.0848554  0.11111111 0.14687976 0.13964992 0.15410959\n",
      " 0.14535769 0.14878234 0.14497717 0.16210046 0.15296804 0.14954338\n",
      " 0.152207   0.16552511 0.18531202 0.17846271 0.16438356 0.12366819\n",
      " 0.13774734 0.15981735 0.19025875 0.17047184 0.2130898  0.21575342\n",
      " 0.2195586  0.206621   0.19178082 0.17085236 0.17808219 0.16818874\n",
      " 0.15981735 0.14155251 0.15449011 0.15525114 0.15144597 0.14231355\n",
      " 0.15258752 0.17884323 0.1305175  0.15791476 0.16400304 0.18112633\n",
      " 0.1761796  0.17770167 0.16133942 0.20205479 0.17237443 0.20015221\n",
      " 0.19901065 0.21232877 0.20624049 0.20966514 0.21651446 0.20509893\n",
      " 0.19330289 0.20129376 0.19658056 0.19530231 0.19403729 0.19294827\n",
      " 0.19186777 0.19071436 0.189448   0.188061   0.18657115 0.18501152\n",
      " 0.18342035 0.1818338  0.18028085 0.17878091 0.17734401 0.17597225\n",
      " 0.17466176 0.17340529 0.1721943  0.17102022 0.16987617 0.1687566\n",
      " 0.16765805 0.16657825 0.16551639 0.1644721 ]\n",
      "26 day output [[0.16344562]]\n",
      "27 day input [0.2043379  0.18074581 0.16971081 0.15981735 0.15525114 0.14802131\n",
      " 0.13013699 0.10235921 0.13926941 0.12138508 0.11757991 0.11757991\n",
      " 0.10578387 0.08751903 0.06468798 0.05669711 0.07115677 0.06506849\n",
      " 0.0848554  0.11111111 0.14687976 0.13964992 0.15410959 0.14535769\n",
      " 0.14878234 0.14497717 0.16210046 0.15296804 0.14954338 0.152207\n",
      " 0.16552511 0.18531202 0.17846271 0.16438356 0.12366819 0.13774734\n",
      " 0.15981735 0.19025875 0.17047184 0.2130898  0.21575342 0.2195586\n",
      " 0.206621   0.19178082 0.17085236 0.17808219 0.16818874 0.15981735\n",
      " 0.14155251 0.15449011 0.15525114 0.15144597 0.14231355 0.15258752\n",
      " 0.17884323 0.1305175  0.15791476 0.16400304 0.18112633 0.1761796\n",
      " 0.17770167 0.16133942 0.20205479 0.17237443 0.20015221 0.19901065\n",
      " 0.21232877 0.20624049 0.20966514 0.21651446 0.20509893 0.19330289\n",
      " 0.20129376 0.19658056 0.19530231 0.19403729 0.19294827 0.19186777\n",
      " 0.19071436 0.189448   0.188061   0.18657115 0.18501152 0.18342035\n",
      " 0.1818338  0.18028085 0.17878091 0.17734401 0.17597225 0.17466176\n",
      " 0.17340529 0.1721943  0.17102022 0.16987617 0.1687566  0.16765805\n",
      " 0.16657825 0.16551639 0.1644721  0.16344562]\n"
     ]
    },
    {
     "name": "stdout",
     "output_type": "stream",
     "text": [
      "27 day output [[0.16243692]]\n",
      "28 day input [0.18074581 0.16971081 0.15981735 0.15525114 0.14802131 0.13013699\n",
      " 0.10235921 0.13926941 0.12138508 0.11757991 0.11757991 0.10578387\n",
      " 0.08751903 0.06468798 0.05669711 0.07115677 0.06506849 0.0848554\n",
      " 0.11111111 0.14687976 0.13964992 0.15410959 0.14535769 0.14878234\n",
      " 0.14497717 0.16210046 0.15296804 0.14954338 0.152207   0.16552511\n",
      " 0.18531202 0.17846271 0.16438356 0.12366819 0.13774734 0.15981735\n",
      " 0.19025875 0.17047184 0.2130898  0.21575342 0.2195586  0.206621\n",
      " 0.19178082 0.17085236 0.17808219 0.16818874 0.15981735 0.14155251\n",
      " 0.15449011 0.15525114 0.15144597 0.14231355 0.15258752 0.17884323\n",
      " 0.1305175  0.15791476 0.16400304 0.18112633 0.1761796  0.17770167\n",
      " 0.16133942 0.20205479 0.17237443 0.20015221 0.19901065 0.21232877\n",
      " 0.20624049 0.20966514 0.21651446 0.20509893 0.19330289 0.20129376\n",
      " 0.19658056 0.19530231 0.19403729 0.19294827 0.19186777 0.19071436\n",
      " 0.189448   0.188061   0.18657115 0.18501152 0.18342035 0.1818338\n",
      " 0.18028085 0.17878091 0.17734401 0.17597225 0.17466176 0.17340529\n",
      " 0.1721943  0.17102022 0.16987617 0.1687566  0.16765805 0.16657825\n",
      " 0.16551639 0.1644721  0.16344562 0.16243692]\n",
      "28 day output [[0.161446]]\n",
      "29 day input [0.16971081 0.15981735 0.15525114 0.14802131 0.13013699 0.10235921\n",
      " 0.13926941 0.12138508 0.11757991 0.11757991 0.10578387 0.08751903\n",
      " 0.06468798 0.05669711 0.07115677 0.06506849 0.0848554  0.11111111\n",
      " 0.14687976 0.13964992 0.15410959 0.14535769 0.14878234 0.14497717\n",
      " 0.16210046 0.15296804 0.14954338 0.152207   0.16552511 0.18531202\n",
      " 0.17846271 0.16438356 0.12366819 0.13774734 0.15981735 0.19025875\n",
      " 0.17047184 0.2130898  0.21575342 0.2195586  0.206621   0.19178082\n",
      " 0.17085236 0.17808219 0.16818874 0.15981735 0.14155251 0.15449011\n",
      " 0.15525114 0.15144597 0.14231355 0.15258752 0.17884323 0.1305175\n",
      " 0.15791476 0.16400304 0.18112633 0.1761796  0.17770167 0.16133942\n",
      " 0.20205479 0.17237443 0.20015221 0.19901065 0.21232877 0.20624049\n",
      " 0.20966514 0.21651446 0.20509893 0.19330289 0.20129376 0.19658056\n",
      " 0.19530231 0.19403729 0.19294827 0.19186777 0.19071436 0.189448\n",
      " 0.188061   0.18657115 0.18501152 0.18342035 0.1818338  0.18028085\n",
      " 0.17878091 0.17734401 0.17597225 0.17466176 0.17340529 0.1721943\n",
      " 0.17102022 0.16987617 0.1687566  0.16765805 0.16657825 0.16551639\n",
      " 0.1644721  0.16344562 0.16243692 0.16144601]\n",
      "29 day output [[0.16047263]]\n",
      "[[0.19658055901527405], [0.1953023076057434], [0.1940372884273529], [0.19294826686382294], [0.19186776876449585], [0.19071435928344727], [0.18944799900054932], [0.18806099891662598], [0.1865711510181427], [0.18501152098178864], [0.1834203451871872], [0.18183380365371704], [0.18028084933757782], [0.1787809133529663], [0.17734400928020477], [0.17597225308418274], [0.1746617555618286], [0.17340528964996338], [0.17219430208206177], [0.17102022469043732], [0.16987617313861847], [0.1687566041946411], [0.16765804588794708], [0.1665782481431961], [0.16551639139652252], [0.16447210311889648], [0.1634456217288971], [0.16243691742420197], [0.1614460051059723], [0.16047263145446777]]\n"
     ]
    }
   ],
   "source": [
    "lst_output=[]\n",
    "n_steps=100\n",
    "i=0\n",
    "while(i<30):\n",
    "    \n",
    "    if(len(temp_input)>100):\n",
    "        \n",
    "        x_input=np.array(temp_input[1:])\n",
    "        print(\"{} day input {}\".format(i,x_input))\n",
    "        x_input=x_input.reshape(1,-1)\n",
    "        x_input = x_input.reshape((1, n_steps, 1))\n",
    "        \n",
    "        yhat = model.predict(x_input, verbose=0)\n",
    "        print(\"{} day output {}\".format(i,yhat))\n",
    "        temp_input.extend(yhat[0].tolist())\n",
    "        temp_input=temp_input[1:]\n",
    "        \n",
    "        lst_output.extend(yhat.tolist())\n",
    "        i=i+1\n",
    "    else:\n",
    "        x_input = x_input.reshape((1, n_steps,1))\n",
    "        yhat = model.predict(x_input, verbose=0)\n",
    "        print(yhat[0])\n",
    "        temp_input.extend(yhat[0].tolist())\n",
    "        print(len(temp_input))\n",
    "        lst_output.extend(yhat.tolist())\n",
    "        i=i+1\n",
    "    \n",
    "\n",
    "print(lst_output)"
   ]
  },
  {
   "cell_type": "code",
   "execution_count": 94,
   "metadata": {},
   "outputs": [],
   "source": [
    "day_new=np.arange(1,101)\n",
    "day_pred=np.arange(101,131)"
   ]
  },
  {
   "cell_type": "code",
   "execution_count": 95,
   "metadata": {},
   "outputs": [
    {
     "data": {
      "text/plain": [
       "2743"
      ]
     },
     "execution_count": 95,
     "metadata": {},
     "output_type": "execute_result"
    }
   ],
   "source": [
    "len(df)"
   ]
  },
  {
   "cell_type": "code",
   "execution_count": 97,
   "metadata": {},
   "outputs": [
    {
     "data": {
      "text/plain": [
       "[<matplotlib.lines.Line2D at 0x1f5cf4a4fc8>]"
      ]
     },
     "execution_count": 97,
     "metadata": {},
     "output_type": "execute_result"
    },
    {
     "data": {
      "image/png": "[encoded data removed]",
      "text/plain": [
       "<Figure size 432x288 with 1 Axes>"
      ]
     },
     "metadata": {
      "needs_background": "light"
     },
     "output_type": "display_data"
    }
   ],
   "source": [
    "plt.plot(day_new,scaler.inverse_transform(df[2643:]))\n",
    "plt.plot(day_pred,scaler.inverse_transform(lst_output))"
   ]
  },
  {
   "cell_type": "code",
   "execution_count": 100,
   "metadata": {},
   "outputs": [
    {
     "data": {
      "text/plain": [
       "[<matplotlib.lines.Line2D at 0x1f5e76d5348>]"
      ]
     },
     "execution_count": 100,
     "metadata": {},
     "output_type": "execute_result"
    },
    {
     "data": {
      "image/png": "[encoded data removed]",
      "text/plain": [
       "<Figure size 432x288 with 1 Axes>"
      ]
     },
     "metadata": {
      "needs_background": "light"
     },
     "output_type": "display_data"
    }
   ],
   "source": [
    "df1=df.tolist()\n",
    "df1.extend(lst_output)\n",
    "plt.plot(df1[1:])"
   ]
  },
  {
   "cell_type": "code",
   "execution_count": null,
   "metadata": {},
   "outputs": [],
   "source": []
  }
 ],
 "metadata": {
  "kernelspec": {
   "display_name": "Python 3",
   "language": "python",
   "name": "python3"
  },
  "language_info": {
   "codemirror_mode": {
    "name": "ipython",
    "version": 3
   },
   "file_extension": ".py",
   "mimetype": "text/x-python",
   "name": "python",
   "nbconvert_exporter": "python",
   "pygments_lexer": "ipython3",
   "version": "3.7.6"
  }
 },
 "nbformat": 4,
 "nbformat_minor": 4
}
